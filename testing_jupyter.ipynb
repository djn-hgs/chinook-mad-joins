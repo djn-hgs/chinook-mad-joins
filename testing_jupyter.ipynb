{
 "cells": [
  {
   "cell_type": "code",
   "id": "initial_id",
   "metadata": {
    "collapsed": true,
    "ExecuteTime": {
     "end_time": "2025-02-02T20:48:12.052256Z",
     "start_time": "2025-02-02T20:48:12.046724Z"
    }
   },
   "source": "print(\"Hello World\")",
   "outputs": [
    {
     "name": "stdout",
     "output_type": "stream",
     "text": [
      "Hello World\n"
     ]
    }
   ],
   "execution_count": 23
  },
  {
   "metadata": {},
   "cell_type": "markdown",
   "source": [
    "This is me writing some linking commentary in _Markdown_\n",
    "- Bullet one\n",
    "- Bullet two\n",
    "\n",
    "[bbc website](http://bbc.co.uk)\n",
    "\n",
    "$$x=\\sqrt 12$$\n",
    "\n",
    "```python\n",
    "print(\"Something\")\n",
    "```"
   ],
   "id": "2b178f24358f059e"
  },
  {
   "metadata": {
    "ExecuteTime": {
     "end_time": "2025-02-02T20:48:12.139539Z",
     "start_time": "2025-02-02T20:48:12.133161Z"
    }
   },
   "cell_type": "code",
   "source": [
    "import sqlite3 as sql\n",
    "\n",
    "conn = sql.connect(\"db.sqlite\")\n",
    "\n",
    "c = conn.cursor()"
   ],
   "id": "7364dc7881c097ca",
   "outputs": [],
   "execution_count": 24
  },
  {
   "metadata": {},
   "cell_type": "markdown",
   "source": "This created a connection and a cursor\n",
   "id": "f418d0b81fd0d90c"
  },
  {
   "metadata": {
    "ExecuteTime": {
     "end_time": "2025-02-02T20:48:12.190803Z",
     "start_time": "2025-02-02T20:48:12.181939Z"
    }
   },
   "cell_type": "code",
   "source": [
    "my_big_query = '''\n",
    "SELECT Artist.Name,Album.Title,Track.Name\n",
    "FROM Artist\n",
    "INNER JOIN Album\n",
    "ON Artist.ArtistId=Album.ArtistId\n",
    "INNER JOIN Track\n",
    "ON Album.AlbumId=Track.AlbumID\n",
    "ORDER BY Artist.Name,Album.Title;\n",
    "'''"
   ],
   "id": "b60b9942c70b991e",
   "outputs": [],
   "execution_count": 25
  },
  {
   "metadata": {},
   "cell_type": "markdown",
   "source": "This was constructed in the console and then I simply copied and pasted into Jupyter.",
   "id": "865988157bbd863"
  },
  {
   "metadata": {
    "ExecuteTime": {
     "end_time": "2025-02-02T20:48:12.261884Z",
     "start_time": "2025-02-02T20:48:12.245612Z"
    }
   },
   "cell_type": "code",
   "source": "c.execute(my_big_query)\n",
   "id": "68f59b5e1424d4fe",
   "outputs": [
    {
     "data": {
      "text/plain": [
       "<sqlite3.Cursor at 0x26421023b40>"
      ]
     },
     "execution_count": 26,
     "metadata": {},
     "output_type": "execute_result"
    }
   ],
   "execution_count": 26
  },
  {
   "metadata": {},
   "cell_type": "markdown",
   "source": "This runs the query, but notice that the output is huge. So we don't use a `.fetchall()` (I tried - it was silly)...",
   "id": "c443c7cb0c9f5bce"
  },
  {
   "metadata": {
    "ExecuteTime": {
     "end_time": "2025-02-02T20:48:12.309229Z",
     "start_time": "2025-02-02T20:48:12.304794Z"
    }
   },
   "cell_type": "code",
   "source": [
    "# query_response = c.fetchall()\n",
    "\n",
    "# This is a good option - we'll just grab 10 to prove a point ;)\n",
    "\n",
    "query_response = c.fetchmany(size=10)"
   ],
   "id": "88d62e794f31f9d5",
   "outputs": [],
   "execution_count": 27
  },
  {
   "metadata": {},
   "cell_type": "markdown",
   "source": "",
   "id": "1f34d2247f2e640e"
  },
  {
   "metadata": {
    "ExecuteTime": {
     "end_time": "2025-02-02T20:48:12.371264Z",
     "start_time": "2025-02-02T20:48:12.363645Z"
    }
   },
   "cell_type": "code",
   "source": [
    "for line in query_response:\n",
    "    print(line)\n"
   ],
   "id": "24af833e80a22dd8",
   "outputs": [
    {
     "name": "stdout",
     "output_type": "stream",
     "text": [
      "('AC/DC', 'For Those About To Rock We Salute You', 'For Those About To Rock (We Salute You)')\n",
      "('AC/DC', 'For Those About To Rock We Salute You', 'Put The Finger On You')\n",
      "('AC/DC', 'For Those About To Rock We Salute You', \"Let's Get It Up\")\n",
      "('AC/DC', 'For Those About To Rock We Salute You', 'Inject The Venom')\n",
      "('AC/DC', 'For Those About To Rock We Salute You', 'Snowballed')\n",
      "('AC/DC', 'For Those About To Rock We Salute You', 'Evil Walks')\n",
      "('AC/DC', 'For Those About To Rock We Salute You', 'C.O.D.')\n",
      "('AC/DC', 'For Those About To Rock We Salute You', 'Breaking The Rules')\n",
      "('AC/DC', 'For Those About To Rock We Salute You', 'Night Of The Long Knives')\n",
      "('AC/DC', 'For Those About To Rock We Salute You', 'Spellbound')\n"
     ]
    }
   ],
   "execution_count": 28
  },
  {
   "metadata": {
    "ExecuteTime": {
     "end_time": "2025-02-02T20:48:12.447945Z",
     "start_time": "2025-02-02T20:48:12.438364Z"
    }
   },
   "cell_type": "code",
   "source": [
    "my_big_query = '''\n",
    "SELECT Artist.Name,Album.Title,Track.Name\n",
    "FROM Artist\n",
    "INNER JOIN Album\n",
    "ON Artist.ArtistId=Album.ArtistId\n",
    "INNER JOIN Track\n",
    "ON Album.AlbumId=Track.AlbumID\n",
    "WHERE Artist.Name=\"Van Halen\"\n",
    "'''\n",
    "\n",
    "c.execute(my_big_query)\n",
    "query_response = c.fetchall()\n",
    "for line in query_response:\n",
    "    print(line)"
   ],
   "id": "53596d92e48088d1",
   "outputs": [
    {
     "name": "stdout",
     "output_type": "stream",
     "text": [
      "('Van Halen', 'Diver Down', 'Where Have All The Good Times Gone?')\n",
      "('Van Halen', 'Diver Down', \"Hang 'Em High\")\n",
      "('Van Halen', 'Diver Down', 'Cathedral')\n",
      "('Van Halen', 'Diver Down', 'Secrets')\n",
      "('Van Halen', 'Diver Down', 'Intruder')\n",
      "('Van Halen', 'Diver Down', '(Oh) Pretty Woman')\n",
      "('Van Halen', 'Diver Down', 'Dancing In The Street')\n",
      "('Van Halen', 'Diver Down', 'Little Guitars (Intro)')\n",
      "('Van Halen', 'Diver Down', 'Little Guitars')\n",
      "('Van Halen', 'Diver Down', 'Big Bad Bill (Is Sweet William Now)')\n",
      "('Van Halen', 'Diver Down', 'The Full Bug')\n",
      "('Van Halen', 'Diver Down', 'Happy Trails')\n",
      "('Van Halen', 'The Best Of Van Halen, Vol. I', 'Eruption')\n",
      "('Van Halen', 'The Best Of Van Halen, Vol. I', \"Ain't Talkin' 'bout Love\")\n",
      "('Van Halen', 'The Best Of Van Halen, Vol. I', \"Runnin' With The Devil\")\n",
      "('Van Halen', 'The Best Of Van Halen, Vol. I', 'Dance the Night Away')\n",
      "('Van Halen', 'The Best Of Van Halen, Vol. I', 'And the Cradle Will Rock...')\n",
      "('Van Halen', 'The Best Of Van Halen, Vol. I', 'Unchained')\n",
      "('Van Halen', 'The Best Of Van Halen, Vol. I', 'Jump')\n",
      "('Van Halen', 'The Best Of Van Halen, Vol. I', 'Panama')\n",
      "('Van Halen', 'The Best Of Van Halen, Vol. I', \"Why Can't This Be Love\")\n",
      "('Van Halen', 'The Best Of Van Halen, Vol. I', 'Dreams')\n",
      "('Van Halen', 'The Best Of Van Halen, Vol. I', \"When It's Love\")\n",
      "('Van Halen', 'The Best Of Van Halen, Vol. I', 'Poundcake')\n",
      "('Van Halen', 'The Best Of Van Halen, Vol. I', 'Right Now')\n",
      "('Van Halen', 'The Best Of Van Halen, Vol. I', \"Can't Stop Loving You\")\n",
      "('Van Halen', 'The Best Of Van Halen, Vol. I', 'Humans Being')\n",
      "('Van Halen', 'The Best Of Van Halen, Vol. I', \"Can't Get This Stuff No More\")\n",
      "('Van Halen', 'The Best Of Van Halen, Vol. I', 'Me Wise Magic')\n",
      "('Van Halen', 'Van Halen', \"Runnin' With The Devil\")\n",
      "('Van Halen', 'Van Halen', 'Eruption')\n",
      "('Van Halen', 'Van Halen', 'You Really Got Me')\n",
      "('Van Halen', 'Van Halen', \"Ain't Talkin' 'Bout Love\")\n",
      "('Van Halen', 'Van Halen', \"I'm The One\")\n",
      "('Van Halen', 'Van Halen', \"Jamie's Cryin'\")\n",
      "('Van Halen', 'Van Halen', 'Atomic Punk')\n",
      "('Van Halen', 'Van Halen', 'Feel Your Love Tonight')\n",
      "('Van Halen', 'Van Halen', 'Little Dreamer')\n",
      "('Van Halen', 'Van Halen', 'Ice Cream Man')\n",
      "('Van Halen', 'Van Halen', 'On Fire')\n",
      "('Van Halen', 'Van Halen III', 'Neworld')\n",
      "('Van Halen', 'Van Halen III', 'Without You')\n",
      "('Van Halen', 'Van Halen III', 'One I Want')\n",
      "('Van Halen', 'Van Halen III', 'From Afar')\n",
      "('Van Halen', 'Van Halen III', 'Dirty Water Dog')\n",
      "('Van Halen', 'Van Halen III', 'Once')\n",
      "('Van Halen', 'Van Halen III', 'Fire in the Hole')\n",
      "('Van Halen', 'Van Halen III', 'Josephina')\n",
      "('Van Halen', 'Van Halen III', 'Year to the Day')\n",
      "('Van Halen', 'Van Halen III', 'Primary')\n",
      "('Van Halen', 'Van Halen III', 'Ballot or the Bullet')\n",
      "('Van Halen', 'Van Halen III', 'How Many Say I')\n"
     ]
    }
   ],
   "execution_count": 29
  },
  {
   "metadata": {
    "ExecuteTime": {
     "end_time": "2025-02-02T20:48:20.309561Z",
     "start_time": "2025-02-02T20:48:12.542680Z"
    }
   },
   "cell_type": "code",
   "source": [
    "genre_choice = input(\"Pick a genre: \")\n",
    "\n",
    "id_query = '''\n",
    "SELECT GenreId FROM Genre\n",
    "WHERE Genre.Name=?\n",
    "\n",
    "'''\n",
    "\n",
    "c.execute(id_query, (genre_choice,))\n",
    "\n",
    "genre_id, = c.fetchone()\n",
    "\n",
    "for line in query_response:\n",
    "    print(line)\n",
    "\n",
    "genre_query = '''\n",
    "SELECT * FROM Track\n",
    "INNER JOIN Album\n",
    "ON Track.AlbumId=Album.AlbumId\n",
    "WHERE Track.GenreId=?\n",
    "GROUP BY Album.Title\n",
    "'''\n",
    "\n",
    "c.execute(genre_query, (genre_id,))\n",
    "query_response = c.fetchall()\n",
    "\n",
    "for line in query_response:\n",
    "    print(line)\n"
   ],
   "id": "f198c4a57fa072c6",
   "outputs": [
    {
     "name": "stdout",
     "output_type": "stream",
     "text": [
      "('Van Halen', 'Diver Down', 'Where Have All The Good Times Gone?')\n",
      "('Van Halen', 'Diver Down', \"Hang 'Em High\")\n",
      "('Van Halen', 'Diver Down', 'Cathedral')\n",
      "('Van Halen', 'Diver Down', 'Secrets')\n",
      "('Van Halen', 'Diver Down', 'Intruder')\n",
      "('Van Halen', 'Diver Down', '(Oh) Pretty Woman')\n",
      "('Van Halen', 'Diver Down', 'Dancing In The Street')\n",
      "('Van Halen', 'Diver Down', 'Little Guitars (Intro)')\n",
      "('Van Halen', 'Diver Down', 'Little Guitars')\n",
      "('Van Halen', 'Diver Down', 'Big Bad Bill (Is Sweet William Now)')\n",
      "('Van Halen', 'Diver Down', 'The Full Bug')\n",
      "('Van Halen', 'Diver Down', 'Happy Trails')\n",
      "('Van Halen', 'The Best Of Van Halen, Vol. I', 'Eruption')\n",
      "('Van Halen', 'The Best Of Van Halen, Vol. I', \"Ain't Talkin' 'bout Love\")\n",
      "('Van Halen', 'The Best Of Van Halen, Vol. I', \"Runnin' With The Devil\")\n",
      "('Van Halen', 'The Best Of Van Halen, Vol. I', 'Dance the Night Away')\n",
      "('Van Halen', 'The Best Of Van Halen, Vol. I', 'And the Cradle Will Rock...')\n",
      "('Van Halen', 'The Best Of Van Halen, Vol. I', 'Unchained')\n",
      "('Van Halen', 'The Best Of Van Halen, Vol. I', 'Jump')\n",
      "('Van Halen', 'The Best Of Van Halen, Vol. I', 'Panama')\n",
      "('Van Halen', 'The Best Of Van Halen, Vol. I', \"Why Can't This Be Love\")\n",
      "('Van Halen', 'The Best Of Van Halen, Vol. I', 'Dreams')\n",
      "('Van Halen', 'The Best Of Van Halen, Vol. I', \"When It's Love\")\n",
      "('Van Halen', 'The Best Of Van Halen, Vol. I', 'Poundcake')\n",
      "('Van Halen', 'The Best Of Van Halen, Vol. I', 'Right Now')\n",
      "('Van Halen', 'The Best Of Van Halen, Vol. I', \"Can't Stop Loving You\")\n",
      "('Van Halen', 'The Best Of Van Halen, Vol. I', 'Humans Being')\n",
      "('Van Halen', 'The Best Of Van Halen, Vol. I', \"Can't Get This Stuff No More\")\n",
      "('Van Halen', 'The Best Of Van Halen, Vol. I', 'Me Wise Magic')\n",
      "('Van Halen', 'Van Halen', \"Runnin' With The Devil\")\n",
      "('Van Halen', 'Van Halen', 'Eruption')\n",
      "('Van Halen', 'Van Halen', 'You Really Got Me')\n",
      "('Van Halen', 'Van Halen', \"Ain't Talkin' 'Bout Love\")\n",
      "('Van Halen', 'Van Halen', \"I'm The One\")\n",
      "('Van Halen', 'Van Halen', \"Jamie's Cryin'\")\n",
      "('Van Halen', 'Van Halen', 'Atomic Punk')\n",
      "('Van Halen', 'Van Halen', 'Feel Your Love Tonight')\n",
      "('Van Halen', 'Van Halen', 'Little Dreamer')\n",
      "('Van Halen', 'Van Halen', 'Ice Cream Man')\n",
      "('Van Halen', 'Van Halen', 'On Fire')\n",
      "('Van Halen', 'Van Halen III', 'Neworld')\n",
      "('Van Halen', 'Van Halen III', 'Without You')\n",
      "('Van Halen', 'Van Halen III', 'One I Want')\n",
      "('Van Halen', 'Van Halen III', 'From Afar')\n",
      "('Van Halen', 'Van Halen III', 'Dirty Water Dog')\n",
      "('Van Halen', 'Van Halen III', 'Once')\n",
      "('Van Halen', 'Van Halen III', 'Fire in the Hole')\n",
      "('Van Halen', 'Van Halen III', 'Josephina')\n",
      "('Van Halen', 'Van Halen III', 'Year to the Day')\n",
      "('Van Halen', 'Van Halen III', 'Primary')\n",
      "('Van Halen', 'Van Halen III', 'Ballot or the Bullet')\n",
      "('Van Halen', 'Van Halen III', 'How Many Say I')\n",
      "(3288, 'Rock You Like a Hurricane', 257, 2, 1, None, 255766, 4300973, 0.99, 257, '20th Century Masters - The Millennium Collection: The Best of Scorpions', 179)\n",
      "(1201, 'Different World', 94, 2, 1, None, 258692, 4383764, 0.99, 94, 'A Matter of Life and Death', 90)\n",
      "(2506, 'Nothing To Say', 203, 1, 1, 'Chris Cornell/Kim Thayil', 238027, 7744833, 0.99, 203, 'A-Sides', 132)\n",
      "(2926, 'Zoo Station', 232, 1, 1, 'U2', 276349, 9056902, 0.99, 232, 'Achtung Baby', 150)\n",
      "(2938, 'Beautiful Day', 233, 1, 1, 'Adam Clayton, Bono, Larry Mullen, The Edge', 248163, 8056723, 0.99, 233, \"All That You Can't Leave Behind\", 150)\n",
      "(1146, 'Welcome to the Jungle', 90, 2, 1, None, 273552, 4538451, 0.99, 90, 'Appetite for Destruction', 88)\n",
      "(1479, 'Foxy Lady', 120, 1, 1, 'Jimi Hendrix', 199340, 6480896, 0.99, 120, 'Are You Experienced?', 94)\n",
      "(85, 'Cochise', 10, 1, 1, 'Audioslave/Chris Cornell', 222380, 5339931, 0.99, 10, 'Audioslave', 8)\n",
      "(2949, 'The Three Sunrises', 234, 1, 1, 'U2', 234788, 7717990, 0.99, 234, 'B-Sides 1980-1990', 150)\n",
      "(337, 'You Shook Me', 30, 1, 1, 'J B Lenoir/Willie Dixon', 315951, 10249958, 0.99, 30, 'BBC Sessions [Disc 1] [Live]', 22)\n",
      "(1577, 'Immigrant Song', 127, 1, 1, 'Robert Plant', 201247, 6457766, 0.99, 127, 'BBC Sessions [Disc 2] [Live]', 22)\n",
      "(2, 'Balls to the Wall', 2, 2, 1, None, 342562, 5510424, 0.99, 2, 'Balls to the Wall', 2)\n",
      "(2093, 'Bark at the Moon', 170, 2, 1, 'O. Osbourne', 257252, 4601224, 0.99, 170, 'Bark at the Moon (Remastered)', 114)\n",
      "(2609, 'War (The Process)', 212, 1, 1, 'Billy Duffy/Ian Astbury', 252630, 8254842, 0.99, 212, 'Beyond Good And Evil', 139)\n",
      "(23, 'Walk On Water', 5, 1, 1, 'Steven Tyler, Joe Perry, Jack Blades, Tommy Shaw', 295680, 9719579, 0.99, 5, 'Big Ones', 3)\n",
      "(2094, \"I Don't Know\", 171, 2, 1, 'B. Daisley, O. Osbourne & R. Rhoads', 312980, 5525339, 0.99, 171, 'Blizzard of Ozz', 114)\n",
      "(351, 'Debra Kadabra', 31, 1, 1, 'Frank Zappa', 234553, 7649679, 0.99, 31, 'Bongo Fury', 23)\n",
      "(1235, 'The Wicker Man', 97, 1, 1, 'Adrian Smith/Bruce Dickinson/Steve Harris', 275539, 11022464, 0.99, 97, 'Brave New World', 90)\n",
      "(2375, 'By The Way', 194, 1, 1, 'Anthony Kiedis, Flea, John Frusciante, and Chad Smith', 218017, 7197430, 0.99, 194, 'By The Way', 127)\n",
      "(2391, 'Around The World', 195, 1, 1, 'Anthony Kiedis/Chad Smith/Flea/John Frusciante', 238837, 7859167, 0.99, 195, 'Californication', 127)\n",
      "(675, 'Susie Q', 54, 1, 1, 'Hawkins-Lewis-Broadwater', 275565, 9043825, 0.99, 54, 'Chronicle, Vol. 1', 76)\n",
      "(695, 'Walking On The Water', 55, 1, 1, 'J.C. Fogerty', 281286, 9302129, 0.99, 55, 'Chronicle, Vol. 2', 76)\n",
      "(1587, \"We're Gonna Groove\", 128, 1, 1, 'Ben E.King/James Bethea', 157570, 5180975, 0.99, 128, 'Coda', 22)\n",
      "(745, \"Comin' Home\", 58, 1, 1, 'Bolin/Coverdale/Paice', 235781, 7644604, 0.99, 58, 'Come Taste The Band', 58)\n",
      "(2015, 'Time', 165, 1, 1, None, 96888, 3124455, 0.99, 165, 'Compositores', 111)\n",
      "(3104, 'Sucker Train Blues', 246, 1, 1, 'Dave Kushner, Duff, Matt Sorum, Scott Weiland & Slash', 267859, 8738780, 0.99, 246, 'Contraband', 153)\n",
      "(2542, 'Dead And Bloated', 206, 1, 1, 'R. DeLeo/Weiland', 310386, 10170433, 0.99, 206, 'Core', 134)\n",
      "(2229, 'Speak To Me/Breathe', 183, 1, 1, 'Mason/Waters, Gilmour, Wright', 234213, 7631305, 0.99, 183, 'Dark Side Of The Moon', 120)\n",
      "(754, 'Speed King', 59, 1, 1, 'Blackmore, Gillan, Glover, Lord, Paice', 264385, 8587578, 0.99, 59, 'Deep Purple In Rock', 58)\n",
      "(2096, 'Flying High Again', 172, 2, 1, 'L. Kerslake, O. Osbourne, R. Daisley & R. Rhoads', 290851, 5179599, 0.99, 172, 'Diary of a Madman (Remastered)', 114)\n",
      "(3052, 'Where Have All The Good Times Gone?', 242, 1, 1, 'Ray Davies', 186723, 6063937, 0.99, 242, 'Diver Down', 152)\n",
      "(1434, 'When You Gonna Learn (Digeridoo)', 116, 1, 1, 'Jay Kay/Kay, Jay', 230635, 7655482, 0.99, 116, 'Emergency On Planet Earth', 92)\n",
      "(3353, \"I Guess You're Right\", 265, 5, 1, 'Darius \"Take One\" Minwalla/Jon Auer/Ken Stringfellow/Matt Harris', 212044, 3453849, 0.99, 265, 'Every Kind of Light', 200)\n",
      "(51, 'We Die Young', 7, 1, 1, 'Jerry Cantrell', 152084, 4925362, 0.99, 7, 'Facelift', 5)\n",
      "(1256, 'Be Quick Or Be Dead', 99, 1, 1, 'Bruce Dickinson/Janick Gers', 204512, 8181888, 0.99, 99, 'Fear Of The Dark', 90)\n",
      "(761, 'Fireball', 60, 1, 1, 'Ritchie Blackmore, Ian Gillan, Roger Glover, Jon Lord, Ian Paice', 204721, 6714807, 0.99, 60, 'Fireball', 58)\n",
      "(1, 'For Those About To Rock (We Salute You)', 1, 1, 1, 'Angus Young, Malcolm Young, Brian Johnson', 343719, 11170334, 0.99, 1, 'For Those About To Rock We Salute You', 1)\n",
      "(1986, 'Intro', 163, 1, 1, 'Kurt Cobain', 52218, 1688527, 0.99, 163, 'From The Muddy Banks Of The Wishkah [Live]', 110)\n",
      "(1702, 'Are You Gonna Go My Way', 141, 1, 1, 'Craig Ross/Lenny Kravitz', 211591, 6905135, 0.99, 141, 'Greatest Hits', 100)\n",
      "(2254, 'Bohemian Rhapsody', 185, 1, 1, 'Mercury, Freddie', 358948, 11619868, 0.99, 185, 'Greatest Hits I', 51)\n",
      "(419, 'A Kind Of Magic', 36, 1, 1, 'Roger Taylor', 262608, 8689618, 0.99, 36, 'Greatest Hits II', 51)\n",
      "(436, 'Detroit Rock City', 37, 1, 1, 'Paul Stanley, B. Ezrin', 218880, 7146372, 0.99, 37, 'Greatest Kiss', 52)\n",
      "(2664, 'Time Is On My Side', 216, 1, 1, 'Jerry Ragavoy', 179983, 5855836, 0.99, 216, 'Hot Rocks, 1964-1971 (Disc 1)', 142)\n",
      "(1595, 'The Song Remains The Same', 129, 1, 1, 'Jimmy Page/Jimmy Page & Robert Plant/Robert Plant', 330004, 10708950, 0.99, 129, 'Houses Of The Holy', 22)\n",
      "(2964, 'Vertigo', 235, 1, 1, 'Adam Clayton, Bono, Larry Mullen & The Edge', 194612, 6329502, 0.99, 235, 'How To Dismantle An Atomic Bomb', 150)\n",
      "(1610, 'Black Dog', 131, 1, 1, 'Jimmy Page, Robert Plant, John Paul Jones', 296672, 9660588, 0.99, 131, 'IV', 22)\n",
      "(1603, 'In The Evening', 130, 1, 1, 'Jimmy Page, Robert Plant & John Paul Jones', 410566, 13399734, 0.99, 130, 'In Through The Out Door', 22)\n",
      "(989, 'In Your Honor', 79, 1, 1, 'Dave Grohl, Taylor Hawkins, Nate Mendel, Chris Shiflett', 230191, 7468463, 0.99, 79, 'In Your Honor [Disc 1]', 84)\n",
      "(999, 'Still', 80, 1, 1, 'Dave Grohl, Taylor Hawkins, Nate Mendel, Chris Shiflett/FOO FIGHTERS', 313182, 10323157, 0.99, 80, 'In Your Honor [Disc 2]', 84)\n",
      "(489, 'Into The Light', 40, 1, 1, 'David Coverdale', 76303, 2452653, 0.99, 40, 'Into The Light', 55)\n",
      "(38, 'All I Really Want', 6, 1, 1, 'Alanis Morissette & Glenn Ballard', 284891, 9375567, 0.99, 6, 'Jagged Little Pill', 4)\n",
      "(949, 'Get Out', 76, 1, 1, 'Mike Bordin, Billy Gould, Mike Patton', 137482, 4524972, 0.99, 76, 'King For A Day Fool For A Lifetime', 82)\n",
      "(768, 'Knocking At Your Back Door', 61, 1, 1, 'Richie Blackmore, Ian Gillian, Roger Glover', 424829, 13779332, 0.99, 61, \"Knocking at Your Back Door: The Best Of Deep Purple in the 80's\", 58)\n",
      "(1618, 'Good Times Bad Times', 132, 1, 1, 'Jimmy Page/John Bonham/John Paul Jones', 166164, 5464077, 0.99, 132, 'Led Zeppelin I', 22)\n",
      "(1627, 'Whole Lotta Love', 133, 1, 1, 'Jimmy Page, Robert Plant, John Paul Jones, John Bonham', 334471, 11026243, 0.99, 133, 'Led Zeppelin II', 22)\n",
      "(1636, 'Immigrant Song', 134, 1, 1, 'Jimmy Page, Robert Plant', 144875, 4786461, 0.99, 134, 'Led Zeppelin III', 22)\n",
      "(15, 'Go Down', 4, 1, 1, 'AC/DC', 331180, 10847611, 0.99, 4, 'Let There Be Rock', 1)\n",
      "(1305, 'Be Quick Or Be Dead', 103, 1, 1, None, 233142, 5599853, 0.99, 103, 'Live At Donington 1992 (Disc 1)', 90)\n",
      "(1315, 'Bring Your Daughter... To The Slaughter...', 104, 1, 1, None, 376711, 9045532, 0.99, 104, 'Live At Donington 1992 (Disc 2)', 90)\n",
      "(2149, 'Corduroy', 178, 1, 1, 'Pearl Jam & Eddie Vedder', 305293, 9991106, 0.99, 178, 'Live On Two Legs [Live]', 118)\n",
      "(543, 'Burn', 43, 1, 1, 'Coverdale/Lord/Paice', 453955, 14775708, 0.99, 43, 'MK III The Final Concerts [Disc 1]', 58)\n",
      "(779, 'Highway Star', 62, 1, 1, 'Ian Gillan/Ian Paice/Jon Lord/Ritchie Blckmore/Roger Glover', 368770, 12012452, 0.99, 62, 'Machine Head', 58)\n",
      "(2449, 'Água E Fogo', 199, 1, 1, 'Chico Amaral/Edgard Scandurra/Samuel Rosa', 278987, 9272272, 0.99, 199, 'Maquinarama', 130)\n",
      "(1745, 'Pseudo Silk Kimono', 144, 1, 1, 'Kelly, Mosley, Rothery, Trewaves', 134739, 4334038, 0.99, 144, 'Misplaced Childhood', 102)\n",
      "(2731, \"I Can't Explain\", 221, 1, 1, 'Pete Townshend', 125152, 4082896, 0.99, 221, 'My Generation - The Very Best Of The Who', 144)\n",
      "(2003, 'Smells Like Teen Spirit', 164, 1, 1, 'Kurt Cobain', 301296, 9823847, 0.99, 164, 'Nevermind', 110)\n",
      "(2296, 'How The West Was Won And Where It Got Us', 189, 1, 1, 'Bill Berry-Peter Buck-Mike Mills-Michael Stipe', 271151, 8994291, 0.99, 189, 'New Adventures In Hi-Fi', 124)\n",
      "(2271, 'We Will Rock You', 186, 1, 1, 'May', 122671, 4026815, 0.99, 186, 'News Of The World', 51)\n",
      "(2097, \"Mama, I'm Coming Home\", 173, 2, 1, 'L. Kilmister, O. Osbourne & Z. Wylde', 251586, 4302390, 0.99, 173, 'No More Tears (Remastered)', 114)\n",
      "(2676, 'Intro', 217, 1, 1, 'Jagger/Richards', 49737, 1618591, 0.99, 217, 'No Security', 142)\n",
      "(2461, 'É Uma Partida De Futebol', 200, 1, 1, 'Samuel Rosa', 1071, 38747, 0.99, 200, 'O Samba Poconé', 130)\n",
      "(550, 'Custard Pie', 44, 1, 1, 'Jimmy Page/Robert Plant', 253962, 8348257, 0.99, 44, 'Physical Graffiti [Disc 1]', 22)\n",
      "(1646, 'In The Light', 135, 1, 1, 'John Paul Jones/Robert Plant', 526785, 17033046, 0.99, 135, 'Physical Graffiti [Disc 2]', 22)\n",
      "(2975, 'Discotheque', 236, 1, 1, 'Bono, The Edge, Adam Clayton, and Larry Mullen', 319582, 10442206, 0.99, 236, 'Pop', 150)\n",
      "(1655, 'Achilles Last Stand', 136, 1, 1, 'Jimmy Page/Robert Plant', 625502, 20593955, 0.99, 136, 'Presence', 22)\n",
      "(2621, 'She Sells Sanctuary', 213, 1, 1, None, 253727, 8368634, 0.99, 213, 'Pure Cult: The Best Of The Cult (For Rockers, Ravers, Lovers & Sinners) [UK]', 139)\n",
      "(786, 'Vavoom : Ted The Mechanic', 63, 1, 1, 'Ian Gillan, Roger Glover, Jon Lord, Steve Morse, Ian Paice', 257384, 8510755, 0.99, 63, 'Purpendicular', 58)\n",
      "(2987, 'Helter Skelter', 237, 1, 1, 'Lennon, John/McCartney, Paul', 187350, 6097636, 0.99, 237, 'Rattle And Hum', 150)\n",
      "(2344, 'Maluco Beleza', 192, 1, 1, None, 203206, 6628067, 0.99, 192, 'Raul Seixas', 126)\n",
      "(3, 'Fast As a Shark', 3, 2, 1, 'F. Baltes, S. Kaufman, U. Dirkscneider & W. Hoffman', 230619, 3990994, 0.99, 3, 'Restless and Wild', 2)\n",
      "(2406, 'The Spirit Of Radio', 196, 1, 1, 'Geddy Lee And Alex Lifeson/Geddy Lee And Neil Peart/Rush', 299154, 9862012, 0.99, 196, 'Retrospective I (1974-1980)', 128)\n",
      "(2178, \"Can't Keep\", 180, 1, 1, 'Eddie Vedder', 219428, 7215713, 0.99, 180, 'Riot Act', 118)\n",
      "(1362, 'Dream Of Mirrors', 109, 1, 1, 'Janick Gers/Steve Harris', 578324, 23134336, 0.99, 109, 'Rock In Rio [CD2]', 90)\n",
      "(2420, 'Jingo', 197, 1, 1, 'M.Babatunde Olantunji', 592953, 19736495, 0.99, 197, 'Santana - As Years Go By', 59)\n",
      "(2428, 'Evil Ways', 198, 1, 1, None, 475402, 15289235, 0.99, 198, 'Santana Live', 59)\n",
      "(798, 'King Of Dreams', 64, 1, 1, 'Blackmore, Glover, Turner', 328385, 10733847, 0.99, 64, 'Slaves And Masters', 58)\n",
      "(3276, 'Sympton of the Universe', 256, 2, 1, None, 340890, 5489313, 0.99, 256, 'Speak of the Devil', 114)\n",
      "(807, 'Stormbringer', 65, 1, 1, 'D.Coverdale/R.Blackmore/Ritchie Blackmore', 246413, 8044864, 0.99, 65, 'Stormbringer', 58)\n",
      "(570, '(Da Le) Yaleo', 46, 1, 1, 'Santana', 353488, 11769507, 0.99, 46, 'Supernatural', 59)\n",
      "(1496, 'Surfing with the Alien', 121, 2, 1, None, 263707, 4418504, 0.99, 121, 'Surfing with the Alien (Remastered)', 95)\n",
      "(2193, 'Once', 181, 1, 1, 'Stone Gossard', 231758, 7561555, 0.99, 181, 'Ten', 118)\n",
      "(816, 'The Battle Rages On', 66, 1, 1, 'ian paice/jon lord', 356963, 11626228, 0.99, 66, 'The Battle Rages On', 58)\n",
      "(2139, 'Wrathchild', 177, 1, 1, 'Steve Harris', 170396, 5499390, 0.99, 177, 'The Beast Live', 117)\n",
      "(3004, 'Pride (In The Name Of Love)', 238, 1, 1, 'U2', 230243, 7549085, 0.99, 238, 'The Best Of 1980-1990', 150)\n",
      "(1791, 'Down Under', 147, 1, 1, None, 222171, 7366142, 0.99, 147, 'The Best Of Men At Work', 105)\n",
      "(3064, 'Eruption', 243, 1, 1, 'Edward Van Halen, Alex Van Halen, David Lee Roth, Michael Anthony', 102164, 3272891, 0.99, 243, 'The Best Of Van Halen, Vol. I', 152)\n",
      "(1020, 'Doll', 82, 1, 1, 'Dave, Taylor, Nate, Chris', 83487, 2702572, 0.99, 82, 'The Colour And The Shape', 84)\n",
      "(2639, 'Break on Through', 214, 1, 1, 'Robby Krieger, Ray Manzarek, John Densmore, Jim Morrison', 149342, 4943144, 0.99, 214, 'The Doors', 140)\n",
      "(620, \"Space Truckin'\", 50, 1, 1, 'Blackmore/Gillan/Glover/Lord/Paice', 1196094, 39267613, 0.99, 50, 'The Final Concerts (Disc 2)', 58)\n",
      "(1393, 'The Number Of The Beast', 112, 1, 1, 'Steve Harris', 293407, 11737216, 0.99, 112, 'The Number of The Beast', 90)\n",
      "(2650, 'Roxanne', 215, 1, 1, 'G M Sumner', 192992, 6330159, 0.99, 215, 'The Police Greatest Hits', 141)\n",
      "(1662, 'Rock & Roll', 137, 1, 1, 'John Bonham/John Paul Jones/Robert Plant', 242442, 7897065, 0.99, 137, 'The Song Remains The Same (Disc 1)', 22)\n",
      "(1667, 'No Quarter', 138, 1, 1, 'John Paul Jones/Robert Plant', 749897, 24399285, 0.99, 138, 'The Song Remains The Same (Disc 2)', 22)\n",
      "(1395, 'Sign Of The Cross', 113, 1, 1, 'Steve Harris', 678008, 27121792, 0.99, 113, 'The X Factor', 90)\n",
      "(3225, 'Your Time Is Gonna Come', 252, 2, 1, 'Page, Jones', 310774, 5126563, 0.99, 252, 'Un-Led-Ed', 157)\n",
      "(1562, \"Comin' Home\", 126, 1, 1, 'Paul Stanley, Ace Frehley', 172068, 5661120, 0.99, 126, 'Unplugged [Live]', 52)\n",
      "(1158, 'Right Next Door to Hell', 91, 2, 1, None, 182321, 3175950, 0.99, 91, 'Use Your Illusion I', 88)\n",
      "(3081, \"Runnin' With The Devil\", 244, 1, 1, 'Edward Van Halen, Alex Van Halen, Michael Anthony and David Lee Roth', 216032, 7056863, 0.99, 244, 'Van Halen', 152)\n",
      "(3092, 'Neworld', 245, 1, 1, 'Van Halen', 105639, 3495897, 0.99, 245, 'Van Halen III', 152)\n",
      "(826, 'Pour Some Sugar On Me', 67, 1, 1, None, 292519, 9518842, 0.99, 67, \"Vault: Def Leppard's Greatest Hits\", 78)\n",
      "(1406, 'Futureal', 114, 1, 1, 'Blaze Bayley/Steve Harris', 175777, 7032960, 0.99, 114, 'Virtual XI', 90)\n",
      "(2690, 'Love Is Strong', 218, 1, 1, 'Jagger/Richards', 230896, 7639774, 0.99, 218, 'Voodoo Lounge', 142)\n",
      "(2204, 'Go', 182, 1, 1, 'Dave Abbruzzese/Eddie Vedder/Jeff Ament/Mike McCready/Stone Gossard', 193123, 6351920, 0.99, 182, 'Vs.', 118)\n",
      "(2113, 'Shining In The Light', 175, 1, 1, 'Jimmy Page, Robert Plant, Charlie Jones, Michael Lee', 240796, 7951688, 0.99, 175, 'Walking Into Clarksdale', 115)\n",
      "(3018, 'Sunday Bloody Sunday', 239, 1, 1, 'U2', 278204, 9140849, 0.99, 239, 'War', 150)\n",
      "(3028, 'Zooropa', 240, 1, 1, 'U2; Bono', 392359, 12807979, 0.99, 240, 'Zooropa', 150)\n",
      "(2565, 'The Sun Road', 208, 1, 1, 'Terry Bozzio, Steve Stevens, Tony Levin', 880640, 29008407, 0.99, 208, '[1997] Black Light Syndrome', 136)\n"
     ]
    }
   ],
   "execution_count": 30
  },
  {
   "metadata": {
    "ExecuteTime": {
     "end_time": "2025-02-02T20:49:30.483915Z",
     "start_time": "2025-02-02T20:49:30.455328Z"
    }
   },
   "cell_type": "code",
   "source": [
    "drop_view = '''\n",
    "DROP VIEW IF EXISTS AlbumGenre;\n",
    "'''\n",
    "c.execute(drop_view)\n",
    "\n",
    "\n",
    "album_genre_view = '''\n",
    "CREATE VIEW AlbumGenre AS\n",
    "SELECT Album.Title, Genre.GenreID\n",
    "FROM Album\n",
    "INNER JOIN Track\n",
    "ON Album.AlbumId=Track.AlbumId\n",
    "INNER JOIN Genre\n",
    "ON Track.GenreId = Genre.GenreId\n",
    "'''\n",
    "\n",
    "c.execute(album_genre_view)\n",
    "\n",
    "genre_choice = \"Rock\"\n",
    "\n",
    "id_query = '''\n",
    "SELECT GenreId FROM Genre\n",
    "WHERE Genre.Name=?\n",
    "\n",
    "'''\n",
    "\n",
    "c.execute(id_query, (genre_choice,))\n",
    "\n",
    "genre_id, = c.fetchone()\n",
    "\n",
    "for line in query_response:\n",
    "    print(line)\n",
    "\n",
    "genre_query = '''\n",
    "SELECT Title FROM AlbumGenre\n",
    "WHERE GenreId=?\n",
    "GROUP BY Title\n",
    "'''\n",
    "\n",
    "c.execute(genre_query, (genre_id,))\n",
    "query_response = c.fetchmany(20)\n",
    "\n",
    "for line in query_response:\n",
    "    print(line)"
   ],
   "id": "1ad20e7cb55d0729",
   "outputs": [
    {
     "name": "stdout",
     "output_type": "stream",
     "text": [
      "('20th Century Masters - The Millennium Collection: The Best of Scorpions',)\n",
      "('A Matter of Life and Death',)\n",
      "('A-Sides',)\n",
      "('Achtung Baby',)\n",
      "(\"All That You Can't Leave Behind\",)\n",
      "('Appetite for Destruction',)\n",
      "('Are You Experienced?',)\n",
      "('Audioslave',)\n",
      "('B-Sides 1980-1990',)\n",
      "('BBC Sessions [Disc 1] [Live]',)\n",
      "('BBC Sessions [Disc 2] [Live]',)\n",
      "('Balls to the Wall',)\n",
      "('Bark at the Moon (Remastered)',)\n",
      "('Beyond Good And Evil',)\n",
      "('Big Ones',)\n",
      "('Blizzard of Ozz',)\n",
      "('Bongo Fury',)\n",
      "('Brave New World',)\n",
      "('By The Way',)\n",
      "('Californication',)\n",
      "('20th Century Masters - The Millennium Collection: The Best of Scorpions',)\n",
      "('A Matter of Life and Death',)\n",
      "('A-Sides',)\n",
      "('Achtung Baby',)\n",
      "(\"All That You Can't Leave Behind\",)\n",
      "('Appetite for Destruction',)\n",
      "('Are You Experienced?',)\n",
      "('Audioslave',)\n",
      "('B-Sides 1980-1990',)\n",
      "('BBC Sessions [Disc 1] [Live]',)\n",
      "('BBC Sessions [Disc 2] [Live]',)\n",
      "('Balls to the Wall',)\n",
      "('Bark at the Moon (Remastered)',)\n",
      "('Beyond Good And Evil',)\n",
      "('Big Ones',)\n",
      "('Blizzard of Ozz',)\n",
      "('Bongo Fury',)\n",
      "('Brave New World',)\n",
      "('By The Way',)\n",
      "('Californication',)\n"
     ]
    }
   ],
   "execution_count": 33
  }
 ],
 "metadata": {
  "kernelspec": {
   "display_name": "Python 3",
   "language": "python",
   "name": "python3"
  },
  "language_info": {
   "codemirror_mode": {
    "name": "ipython",
    "version": 2
   },
   "file_extension": ".py",
   "mimetype": "text/x-python",
   "name": "python",
   "nbconvert_exporter": "python",
   "pygments_lexer": "ipython2",
   "version": "2.7.6"
  }
 },
 "nbformat": 4,
 "nbformat_minor": 5
}
