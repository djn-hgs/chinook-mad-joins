{
 "cells": [
  {
   "cell_type": "code",
   "id": "initial_id",
   "metadata": {
    "collapsed": true,
    "ExecuteTime": {
     "end_time": "2025-02-02T22:21:40.543492Z",
     "start_time": "2025-02-02T22:21:40.540915Z"
    }
   },
   "source": "print(\"Hello World\")",
   "outputs": [
    {
     "name": "stdout",
     "output_type": "stream",
     "text": [
      "Hello World\n"
     ]
    }
   ],
   "execution_count": 29
  },
  {
   "metadata": {},
   "cell_type": "markdown",
   "source": [
    "This is me writing some linking commentary in _Markdown_\n",
    "- Bullet one\n",
    "- Bullet two\n",
    "\n",
    "[bbc website](http://bbc.co.uk)\n",
    "\n",
    "\n",
    "```python\n",
    "print(\"Something\")\n",
    "```"
   ],
   "id": "2b178f24358f059e"
  },
  {
   "metadata": {
    "ExecuteTime": {
     "end_time": "2025-02-02T22:21:40.560640Z",
     "start_time": "2025-02-02T22:21:40.558334Z"
    }
   },
   "cell_type": "code",
   "source": [
    "import sqlite3 as sql\n",
    "\n",
    "conn = sql.connect(\"db.sqlite\")\n",
    "\n",
    "c = conn.cursor()"
   ],
   "id": "7364dc7881c097ca",
   "outputs": [],
   "execution_count": 30
  },
  {
   "metadata": {},
   "cell_type": "markdown",
   "source": "This created a connection and a cursor\n",
   "id": "f418d0b81fd0d90c"
  },
  {
   "metadata": {
    "ExecuteTime": {
     "end_time": "2025-02-02T22:21:40.569430Z",
     "start_time": "2025-02-02T22:21:40.567363Z"
    }
   },
   "cell_type": "code",
   "source": [
    "my_big_query = '''\n",
    "SELECT Artist.Name,Album.Title,Track.Name\n",
    "FROM Artist\n",
    "INNER JOIN Album\n",
    "ON Artist.ArtistId=Album.ArtistId\n",
    "INNER JOIN Track\n",
    "ON Album.AlbumId=Track.AlbumID\n",
    "ORDER BY Artist.Name,Album.Title;\n",
    "'''"
   ],
   "id": "b60b9942c70b991e",
   "outputs": [],
   "execution_count": 31
  },
  {
   "metadata": {},
   "cell_type": "markdown",
   "source": "This was constructed in the console and then I simply copied and pasted into Jupyter.",
   "id": "865988157bbd863"
  },
  {
   "metadata": {
    "ExecuteTime": {
     "end_time": "2025-02-02T22:21:40.580633Z",
     "start_time": "2025-02-02T22:21:40.575540Z"
    }
   },
   "cell_type": "code",
   "source": "c.execute(my_big_query)\n",
   "id": "68f59b5e1424d4fe",
   "outputs": [
    {
     "data": {
      "text/plain": [
       "<sqlite3.Cursor at 0x112eb71c0>"
      ]
     },
     "execution_count": 32,
     "metadata": {},
     "output_type": "execute_result"
    }
   ],
   "execution_count": 32
  },
  {
   "metadata": {},
   "cell_type": "markdown",
   "source": "This runs the query, but notice that the output is huge. So we don't use a `.fetchall()` (I tried - it was silly)...",
   "id": "c443c7cb0c9f5bce"
  },
  {
   "metadata": {
    "ExecuteTime": {
     "end_time": "2025-02-02T22:21:40.591979Z",
     "start_time": "2025-02-02T22:21:40.589854Z"
    }
   },
   "cell_type": "code",
   "source": [
    "# query_response = c.fetchall()\n",
    "\n",
    "# This is a good option - we'll just grab 10 to prove a point ;)\n",
    "\n",
    "query_response = c.fetchmany(size=10)"
   ],
   "id": "88d62e794f31f9d5",
   "outputs": [],
   "execution_count": 33
  },
  {
   "metadata": {},
   "cell_type": "markdown",
   "source": "",
   "id": "1f34d2247f2e640e"
  },
  {
   "metadata": {
    "ExecuteTime": {
     "end_time": "2025-02-02T22:21:40.606426Z",
     "start_time": "2025-02-02T22:21:40.603713Z"
    }
   },
   "cell_type": "code",
   "source": [
    "for line in query_response:\n",
    "    print(line)\n"
   ],
   "id": "24af833e80a22dd8",
   "outputs": [
    {
     "name": "stdout",
     "output_type": "stream",
     "text": [
      "('AC/DC', 'For Those About To Rock We Salute You', 'For Those About To Rock (We Salute You)')\n",
      "('AC/DC', 'For Those About To Rock We Salute You', 'Put The Finger On You')\n",
      "('AC/DC', 'For Those About To Rock We Salute You', \"Let's Get It Up\")\n",
      "('AC/DC', 'For Those About To Rock We Salute You', 'Inject The Venom')\n",
      "('AC/DC', 'For Those About To Rock We Salute You', 'Snowballed')\n",
      "('AC/DC', 'For Those About To Rock We Salute You', 'Evil Walks')\n",
      "('AC/DC', 'For Those About To Rock We Salute You', 'C.O.D.')\n",
      "('AC/DC', 'For Those About To Rock We Salute You', 'Breaking The Rules')\n",
      "('AC/DC', 'For Those About To Rock We Salute You', 'Night Of The Long Knives')\n",
      "('AC/DC', 'For Those About To Rock We Salute You', 'Spellbound')\n"
     ]
    }
   ],
   "execution_count": 34
  },
  {
   "metadata": {
    "ExecuteTime": {
     "end_time": "2025-02-02T22:21:40.626766Z",
     "start_time": "2025-02-02T22:21:40.623306Z"
    }
   },
   "cell_type": "code",
   "source": [
    "my_big_query = '''\n",
    "SELECT Artist.Name,Album.Title,Track.Name\n",
    "FROM Artist\n",
    "INNER JOIN Album\n",
    "ON Artist.ArtistId=Album.ArtistId\n",
    "INNER JOIN Track\n",
    "ON Album.AlbumId=Track.AlbumID\n",
    "WHERE Artist.Name=\"Van Halen\"\n",
    "'''\n",
    "\n",
    "c.execute(my_big_query)\n",
    "query_response = c.fetchmany(10)\n",
    "for line in query_response:\n",
    "    print(line)"
   ],
   "id": "53596d92e48088d1",
   "outputs": [
    {
     "name": "stdout",
     "output_type": "stream",
     "text": [
      "('Van Halen', 'Diver Down', 'Where Have All The Good Times Gone?')\n",
      "('Van Halen', 'Diver Down', \"Hang 'Em High\")\n",
      "('Van Halen', 'Diver Down', 'Cathedral')\n",
      "('Van Halen', 'Diver Down', 'Secrets')\n",
      "('Van Halen', 'Diver Down', 'Intruder')\n",
      "('Van Halen', 'Diver Down', '(Oh) Pretty Woman')\n",
      "('Van Halen', 'Diver Down', 'Dancing In The Street')\n",
      "('Van Halen', 'Diver Down', 'Little Guitars (Intro)')\n",
      "('Van Halen', 'Diver Down', 'Little Guitars')\n",
      "('Van Halen', 'Diver Down', 'Big Bad Bill (Is Sweet William Now)')\n"
     ]
    }
   ],
   "execution_count": 35
  },
  {
   "metadata": {
    "ExecuteTime": {
     "end_time": "2025-02-02T22:21:45.858710Z",
     "start_time": "2025-02-02T22:21:40.639469Z"
    }
   },
   "cell_type": "code",
   "source": [
    "genre_choice = input(\"Pick a genre: \")\n",
    "\n",
    "id_query = '''\n",
    "SELECT GenreId FROM Genre\n",
    "WHERE Genre.Name=?\n",
    "\n",
    "'''\n",
    "\n",
    "c.execute(id_query, (genre_choice,))\n",
    "\n",
    "genre_id, = c.fetchone()\n",
    "\n",
    "for line in query_response:\n",
    "    print(line)\n",
    "\n",
    "genre_query = '''\n",
    "SELECT * FROM Track\n",
    "INNER JOIN Album\n",
    "ON Track.AlbumId=Album.AlbumId\n",
    "WHERE Track.GenreId=?\n",
    "GROUP BY Album.Title\n",
    "'''\n",
    "\n",
    "c.execute(genre_query, (genre_id,))\n",
    "query_response = c.fetchmany(10)\n",
    "\n",
    "for line in query_response:\n",
    "    print(line)\n"
   ],
   "id": "f198c4a57fa072c6",
   "outputs": [
    {
     "name": "stdout",
     "output_type": "stream",
     "text": [
      "('Van Halen', 'Diver Down', 'Where Have All The Good Times Gone?')\n",
      "('Van Halen', 'Diver Down', \"Hang 'Em High\")\n",
      "('Van Halen', 'Diver Down', 'Cathedral')\n",
      "('Van Halen', 'Diver Down', 'Secrets')\n",
      "('Van Halen', 'Diver Down', 'Intruder')\n",
      "('Van Halen', 'Diver Down', '(Oh) Pretty Woman')\n",
      "('Van Halen', 'Diver Down', 'Dancing In The Street')\n",
      "('Van Halen', 'Diver Down', 'Little Guitars (Intro)')\n",
      "('Van Halen', 'Diver Down', 'Little Guitars')\n",
      "('Van Halen', 'Diver Down', 'Big Bad Bill (Is Sweet William Now)')\n",
      "(3288, 'Rock You Like a Hurricane', 257, 2, 1, None, 255766, 4300973, 0.99, 257, '20th Century Masters - The Millennium Collection: The Best of Scorpions', 179)\n",
      "(1201, 'Different World', 94, 2, 1, None, 258692, 4383764, 0.99, 94, 'A Matter of Life and Death', 90)\n",
      "(2506, 'Nothing To Say', 203, 1, 1, 'Chris Cornell/Kim Thayil', 238027, 7744833, 0.99, 203, 'A-Sides', 132)\n",
      "(2926, 'Zoo Station', 232, 1, 1, 'U2', 276349, 9056902, 0.99, 232, 'Achtung Baby', 150)\n",
      "(2938, 'Beautiful Day', 233, 1, 1, 'Adam Clayton, Bono, Larry Mullen, The Edge', 248163, 8056723, 0.99, 233, \"All That You Can't Leave Behind\", 150)\n",
      "(1146, 'Welcome to the Jungle', 90, 2, 1, None, 273552, 4538451, 0.99, 90, 'Appetite for Destruction', 88)\n",
      "(1479, 'Foxy Lady', 120, 1, 1, 'Jimi Hendrix', 199340, 6480896, 0.99, 120, 'Are You Experienced?', 94)\n",
      "(85, 'Cochise', 10, 1, 1, 'Audioslave/Chris Cornell', 222380, 5339931, 0.99, 10, 'Audioslave', 8)\n",
      "(2949, 'The Three Sunrises', 234, 1, 1, 'U2', 234788, 7717990, 0.99, 234, 'B-Sides 1980-1990', 150)\n",
      "(337, 'You Shook Me', 30, 1, 1, 'J B Lenoir/Willie Dixon', 315951, 10249958, 0.99, 30, 'BBC Sessions [Disc 1] [Live]', 22)\n"
     ]
    }
   ],
   "execution_count": 36
  },
  {
   "metadata": {
    "ExecuteTime": {
     "end_time": "2025-02-02T22:21:45.877027Z",
     "start_time": "2025-02-02T22:21:45.870857Z"
    }
   },
   "cell_type": "code",
   "source": [
    "drop_view = '''\n",
    "DROP VIEW IF EXISTS AlbumGenre;\n",
    "'''\n",
    "c.execute(drop_view)\n",
    "\n",
    "\n",
    "album_genre_view = '''\n",
    "CREATE VIEW AlbumGenre AS\n",
    "SELECT Album.Title, Genre.GenreID\n",
    "FROM Album\n",
    "INNER JOIN Track\n",
    "ON Album.AlbumId=Track.AlbumId\n",
    "INNER JOIN Genre\n",
    "ON Track.GenreId = Genre.GenreId\n",
    "'''\n",
    "\n",
    "c.execute(album_genre_view)\n",
    "\n",
    "print('\\nPause\\n')\n",
    "\n",
    "genre_choice = \"Rock\"\n",
    "\n",
    "id_query = '''\n",
    "SELECT GenreId FROM Genre\n",
    "WHERE Genre.Name=?\n",
    "\n",
    "'''\n",
    "\n",
    "c.execute(id_query, (genre_choice,))\n",
    "\n",
    "genre_id, = c.fetchone()\n",
    "\n",
    "for line in query_response:\n",
    "    print(line)\n",
    "\n",
    "print('\\nPause\\n')\n",
    "\n",
    "genre_query = '''\n",
    "SELECT Title FROM AlbumGenre\n",
    "WHERE GenreId=?\n",
    "GROUP BY Title\n",
    "'''\n",
    "\n",
    "c.execute(genre_query, (genre_id,))\n",
    "query_response = c.fetchmany(20)\n",
    "\n",
    "for line in query_response:\n",
    "    print(line)"
   ],
   "id": "1ad20e7cb55d0729",
   "outputs": [
    {
     "name": "stdout",
     "output_type": "stream",
     "text": [
      "\n",
      "Pause\n",
      "\n",
      "(3288, 'Rock You Like a Hurricane', 257, 2, 1, None, 255766, 4300973, 0.99, 257, '20th Century Masters - The Millennium Collection: The Best of Scorpions', 179)\n",
      "(1201, 'Different World', 94, 2, 1, None, 258692, 4383764, 0.99, 94, 'A Matter of Life and Death', 90)\n",
      "(2506, 'Nothing To Say', 203, 1, 1, 'Chris Cornell/Kim Thayil', 238027, 7744833, 0.99, 203, 'A-Sides', 132)\n",
      "(2926, 'Zoo Station', 232, 1, 1, 'U2', 276349, 9056902, 0.99, 232, 'Achtung Baby', 150)\n",
      "(2938, 'Beautiful Day', 233, 1, 1, 'Adam Clayton, Bono, Larry Mullen, The Edge', 248163, 8056723, 0.99, 233, \"All That You Can't Leave Behind\", 150)\n",
      "(1146, 'Welcome to the Jungle', 90, 2, 1, None, 273552, 4538451, 0.99, 90, 'Appetite for Destruction', 88)\n",
      "(1479, 'Foxy Lady', 120, 1, 1, 'Jimi Hendrix', 199340, 6480896, 0.99, 120, 'Are You Experienced?', 94)\n",
      "(85, 'Cochise', 10, 1, 1, 'Audioslave/Chris Cornell', 222380, 5339931, 0.99, 10, 'Audioslave', 8)\n",
      "(2949, 'The Three Sunrises', 234, 1, 1, 'U2', 234788, 7717990, 0.99, 234, 'B-Sides 1980-1990', 150)\n",
      "(337, 'You Shook Me', 30, 1, 1, 'J B Lenoir/Willie Dixon', 315951, 10249958, 0.99, 30, 'BBC Sessions [Disc 1] [Live]', 22)\n",
      "\n",
      "Pause\n",
      "\n",
      "('20th Century Masters - The Millennium Collection: The Best of Scorpions',)\n",
      "('A Matter of Life and Death',)\n",
      "('A-Sides',)\n",
      "('Achtung Baby',)\n",
      "(\"All That You Can't Leave Behind\",)\n",
      "('Appetite for Destruction',)\n",
      "('Are You Experienced?',)\n",
      "('Audioslave',)\n",
      "('B-Sides 1980-1990',)\n",
      "('BBC Sessions [Disc 1] [Live]',)\n",
      "('BBC Sessions [Disc 2] [Live]',)\n",
      "('Balls to the Wall',)\n",
      "('Bark at the Moon (Remastered)',)\n",
      "('Beyond Good And Evil',)\n",
      "('Big Ones',)\n",
      "('Blizzard of Ozz',)\n",
      "('Bongo Fury',)\n",
      "('Brave New World',)\n",
      "('By The Way',)\n",
      "('Californication',)\n"
     ]
    }
   ],
   "execution_count": 37
  },
  {
   "metadata": {
    "ExecuteTime": {
     "end_time": "2025-02-02T22:21:45.904367Z",
     "start_time": "2025-02-02T22:21:45.902733Z"
    }
   },
   "cell_type": "code",
   "source": "",
   "id": "d1bff5105d58d28c",
   "outputs": [],
   "execution_count": null
  }
 ],
 "metadata": {
  "kernelspec": {
   "display_name": "Python 3",
   "language": "python",
   "name": "python3"
  },
  "language_info": {
   "codemirror_mode": {
    "name": "ipython",
    "version": 2
   },
   "file_extension": ".py",
   "mimetype": "text/x-python",
   "name": "python",
   "nbconvert_exporter": "python",
   "pygments_lexer": "ipython2",
   "version": "2.7.6"
  }
 },
 "nbformat": 4,
 "nbformat_minor": 5
}
